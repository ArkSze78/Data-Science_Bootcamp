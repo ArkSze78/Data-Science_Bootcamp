{
  "nbformat": 4,
  "nbformat_minor": 0,
  "metadata": {
    "colab": {
      "provenance": [],
      "collapsed_sections": [
        "IkWC7TXFwRZW",
        "TGLtTPZ61TTN",
        "wJbp3rYIx1kD",
        "mU6sbERi0bgW",
        "tRJMn_cNqx_H",
        "8-97pYCDt3BW",
        "CQ21zqwi_lBi",
        "OzwC3dmHB1MH"
      ],
      "include_colab_link": true
    },
    "kernelspec": {
      "name": "python3",
      "display_name": "Python 3"
    }
  },
  "cells": [
    {
      "cell_type": "markdown",
      "metadata": {
        "id": "view-in-github",
        "colab_type": "text"
      },
      "source": [
        "<a href=\"https://colab.research.google.com/github/ArkSze78/Data-Science_Bootcamp/blob/main/01_wprowadzenie/02_algebra_liniowa.ipynb\" target=\"_parent\"><img src=\"https://colab.research.google.com/assets/colab-badge.svg\" alt=\"Open In Colab\"/></a>"
      ]
    },
    {
      "cell_type": "markdown",
      "metadata": {
        "id": "Dh-h0H3QH6_r"
      },
      "source": [
        "* @author: krakowiakpawel9@gmail.com  \n",
        "* @site: e-smartdata.org"
      ]
    },
    {
      "cell_type": "markdown",
      "metadata": {
        "id": "ZlL4HqNannLQ"
      },
      "source": [
        "### NumPy\n",
        ">Strona biblioteki: [https://numpy.org/](https://numpy.org/)  \n",
        ">Dokumentacja: [https://numpy.org/doc/](https://numpy.org/doc/)  \n",
        ">\n",
        ">Podstawowa biblioteka do obliczeń numerycznych w języku Python.\n",
        ">\n",
        ">Aby zainstalować bibliotekę NumPy, użyj polecenia poniżej:\n",
        "```\n",
        "pip install numpy\n",
        "```\n",
        "\n",
        "### Spis treści:\n",
        "1. [Norma wektora, długość wektora w $R^{2}$](#a1)\n",
        "2. [Norma euklidesowa $R^{n}$](#a2)\n",
        "3. [Odległóść dwóch punktów na płaszczyźnie](#a3)\n",
        "4. [Odległóść dwóch punktów w przestrzeni $R^{n}$](#a4)\n",
        "5. [Mnożenie macierzy](#a5)\n",
        "6. [Wyznacznik macierzy](#a6)\n",
        "7. [Ślad macierzy](#a7)\n",
        "8. [Macierz jednostkowa](#a8)\n",
        "9. [ Macierz odwrotna](#a9)\n",
        "10. [Macierz transponowana](#a10)\n",
        "11. [Rozwiązywanie układów równań](#a11)\n",
        "\n",
        "\n",
        "\n"
      ]
    },
    {
      "cell_type": "code",
      "metadata": {
        "id": "AEE5ZeP_mtQo",
        "outputId": "6e53b14e-3227-4b8b-add1-8eea0a6050ff",
        "colab": {
          "base_uri": "https://localhost:8080/",
          "height": 36
        }
      },
      "source": [
        "import numpy as np\n",
        "np.__version__"
      ],
      "execution_count": 16,
      "outputs": [
        {
          "output_type": "execute_result",
          "data": {
            "text/plain": [
              "'2.0.2'"
            ],
            "application/vnd.google.colaboratory.intrinsic+json": {
              "type": "string"
            }
          },
          "metadata": {},
          "execution_count": 16
        }
      ]
    },
    {
      "cell_type": "markdown",
      "metadata": {
        "id": "IkWC7TXFwRZW"
      },
      "source": [
        "### <a name='a1'></a> Norma wektora, długość wektora w $R^{2}$\n",
        "\n",
        "${\\mathbf  {v}} = [v_{1}, v_{2}]$   \n",
        "$\\left\\|{\\mathbf  {v}}\\right\\|={\\sqrt  {v_{1}^{2}+v_{2}^{2}}}$"
      ]
    },
    {
      "cell_type": "code",
      "metadata": {
        "id": "BlG2WccdMRwW",
        "outputId": "6c46bbe3-fe46-48d6-a674-b1657bcb594b",
        "colab": {
          "base_uri": "https://localhost:8080/"
        }
      },
      "source": [
        "v1 = np.array([-1, 4])\n",
        "v1"
      ],
      "execution_count": 4,
      "outputs": [
        {
          "output_type": "execute_result",
          "data": {
            "text/plain": [
              "array([-1,  4])"
            ]
          },
          "metadata": {},
          "execution_count": 4
        }
      ]
    },
    {
      "cell_type": "code",
      "source": [
        "np.linalg.norm(v1)"
      ],
      "metadata": {
        "colab": {
          "base_uri": "https://localhost:8080/"
        },
        "id": "I9kSwPLrJ8XC",
        "outputId": "a0dceea3-16ad-4b2e-a8ad-6ed1e0c07238"
      },
      "execution_count": 5,
      "outputs": [
        {
          "output_type": "execute_result",
          "data": {
            "text/plain": [
              "np.float64(4.123105625617661)"
            ]
          },
          "metadata": {},
          "execution_count": 5
        }
      ]
    },
    {
      "cell_type": "markdown",
      "metadata": {
        "id": "TGLtTPZ61TTN"
      },
      "source": [
        "### <a name='a2'></a> Norma euklidesowa w $R^{n}$\n",
        "\n",
        "$\\left\\|{\\mathbf  {v}}\\right\\|={\\sqrt  {v_{1}^{2}+v_{2}^{2}+\\cdots +v_{n}^{2}}}$"
      ]
    },
    {
      "cell_type": "code",
      "metadata": {
        "id": "DNAgIahNMmaV",
        "outputId": "32a68e3f-9eed-442c-bb59-609258be1ff3",
        "colab": {
          "base_uri": "https://localhost:8080/"
        }
      },
      "source": [
        "# prompt: Sprawdzanie dlugosci wektora v2 funkcja numpy linalg.norm(wektor)\n",
        "\n",
        "v2 = np.array([-10, 10, 13])\n",
        "np.linalg.norm(v2)\n"
      ],
      "execution_count": null,
      "outputs": [
        {
          "output_type": "execute_result",
          "data": {
            "text/plain": [
              "np.float64(19.209372712298546)"
            ]
          },
          "metadata": {},
          "execution_count": 8
        }
      ]
    },
    {
      "cell_type": "markdown",
      "metadata": {
        "id": "wJbp3rYIx1kD"
      },
      "source": [
        "### <a name='a3'></a> Odległóść dwóch punktów na płaszczyźnie\n"
      ]
    },
    {
      "cell_type": "code",
      "metadata": {
        "id": "WxYFUPobNHqS",
        "outputId": "84b9c15f-57cd-4b0c-b8df-891ad0d2c7c9",
        "colab": {
          "base_uri": "https://localhost:8080/"
        }
      },
      "source": [
        "p = np.array([3, 0])\n",
        "q = np.array([0, 4])\n",
        "\n",
        "np.linalg.norm(p - q)"
      ],
      "execution_count": 7,
      "outputs": [
        {
          "output_type": "execute_result",
          "data": {
            "text/plain": [
              "np.float64(5.0)"
            ]
          },
          "metadata": {},
          "execution_count": 7
        }
      ]
    },
    {
      "cell_type": "markdown",
      "metadata": {
        "id": "mU6sbERi0bgW"
      },
      "source": [
        "### <a name='a4'></a> Odległóść dwóch punktów w przestrzeni $R^{n}$\n"
      ]
    },
    {
      "cell_type": "markdown",
      "metadata": {
        "id": "1VjJWFII00GA"
      },
      "source": [
        " \\begin{aligned}d(\\mathbf {p} ,\\mathbf {q} )=d(\\mathbf {q} ,\\mathbf {p} )&={\\sqrt {(q_{1}-p_{1})^{2}+(q_{2}-p_{2})^{2}+\\cdots +(q_{n}-p_{n})^{2}}}\\\\[8pt]&={\\sqrt {\\sum _{i=1}^{n}(q_{i}-p_{i})^{2}}}\\end{aligned}\n",
        "\n"
      ]
    },
    {
      "cell_type": "code",
      "metadata": {
        "id": "3Hs60YeSNZWo",
        "outputId": "54f7162c-0681-4914-fcc9-5ba69f6c4579",
        "colab": {
          "base_uri": "https://localhost:8080/"
        }
      },
      "source": [
        "p = np.array([3, 0, 1])\n",
        "q = np.array([0, 4, 2])\n",
        "\n",
        "np.linalg.norm(p - q)"
      ],
      "execution_count": null,
      "outputs": [
        {
          "output_type": "execute_result",
          "data": {
            "text/plain": [
              "np.float64(5.0990195135927845)"
            ]
          },
          "metadata": {},
          "execution_count": 10
        }
      ]
    },
    {
      "cell_type": "markdown",
      "metadata": {
        "id": "Okh4nOwfFBhj"
      },
      "source": [
        "### <a name='a5'></a> Mnożenie macierzy\n",
        "\n",
        "\n",
        "\n",
        "$${A} ={\\begin{bmatrix}a_{11}&a_{12}&\\cdots &a_{1n}\\\\a_{21}&a_{22}&\\cdots &a_{2n}\\\\\\vdots &\\vdots &\\ddots &\\vdots \\\\a_{m1}&a_{m2}&\\cdots &a_{mn}\\\\\\end{bmatrix}}$$\n",
        "A - macierz wymairu $m\\ x\\ n$\n",
        "\n",
        "$$ {B} ={\\begin{bmatrix}b_{11}&b_{12}&\\cdots &b_{1p}\\\\b_{21}&b_{22}&\\cdots &b_{2p}\\\\\\vdots &\\vdots &\\ddots &\\vdots \\\\b_{n1}&b_{n2}&\\cdots &b_{np}\\\\\\end{bmatrix}}$$\n",
        "B - macierz wymairu $n\\ x\\ p$\n",
        "\n",
        "$$C = AB$$\n",
        "C - macierz wymiaru $m\\ x\\ p$  \n",
        "Aby móc pomnożyć dwie macierze liczba liczba kolumn w lewej macierzy musi zgadzać się z liczbą wierszy prawej macierzy.\n",
        "\n",
        "Mnożenie macierzy nie jest przemienne! Tzn. $$AB \\neq BA$$\n",
        "\n",
        "\n"
      ]
    },
    {
      "cell_type": "markdown",
      "metadata": {
        "id": "tRJMn_cNqx_H"
      },
      "source": [
        "### Przykład 1\n",
        "$ X = \\begin{bmatrix}5&3\\\\3&9\\end{bmatrix}$, $ Y= \\begin{bmatrix}1\\\\-1\\end{bmatrix} $  \n",
        "$X$ macierz 2x2  \n",
        "$Y$ macierz 2x1\n",
        "$$Z = X \\cdot Y = \\begin{bmatrix}5&3\\\\3&9\\end{bmatrix} \\cdot \\begin{bmatrix}1\\\\-1\\end{bmatrix} = \\begin{bmatrix}2\\\\-6\\end{bmatrix}$$\n",
        "$Z$ macierz 2x1\n"
      ]
    },
    {
      "cell_type": "code",
      "metadata": {
        "id": "cxClS98JVpiL",
        "outputId": "63759f27-b9e5-4706-93d8-bd114d9bbd92",
        "colab": {
          "base_uri": "https://localhost:8080/"
        }
      },
      "source": [
        "X = np.array([[5, 3], [3, 9]])\n",
        "Y = np.array([[1], [-1]])\n",
        "print(X, '\\n')\n",
        "print(Y)"
      ],
      "execution_count": 17,
      "outputs": [
        {
          "output_type": "stream",
          "name": "stdout",
          "text": [
            "[[5 3]\n",
            " [3 9]] \n",
            "\n",
            "[[ 1]\n",
            " [-1]]\n"
          ]
        }
      ]
    },
    {
      "cell_type": "code",
      "metadata": {
        "id": "lbskXePVWouf",
        "outputId": "69ecdc75-f8f4-427f-cb4d-f2a8d0fddd40",
        "colab": {
          "base_uri": "https://localhost:8080/"
        }
      },
      "source": [
        "# mnozenie macierzy\n",
        "Z = np.dot(X, Y)\n",
        "Z"
      ],
      "execution_count": 18,
      "outputs": [
        {
          "output_type": "execute_result",
          "data": {
            "text/plain": [
              "array([[ 2],\n",
              "       [-6]])"
            ]
          },
          "metadata": {},
          "execution_count": 18
        }
      ]
    },
    {
      "cell_type": "code",
      "metadata": {
        "id": "Kxm6ikWQWvz2",
        "outputId": "18f5ee8a-d379-4306-bfd5-102547c99e61",
        "colab": {
          "base_uri": "https://localhost:8080/"
        }
      },
      "source": [
        "Z.shape"
      ],
      "execution_count": 19,
      "outputs": [
        {
          "output_type": "execute_result",
          "data": {
            "text/plain": [
              "(2, 1)"
            ]
          },
          "metadata": {},
          "execution_count": 19
        }
      ]
    },
    {
      "cell_type": "markdown",
      "metadata": {
        "id": "8-97pYCDt3BW"
      },
      "source": [
        "### Przykład 2\n",
        "$X = \\begin{bmatrix}2&-1&3\\\\3&1&0\\end{bmatrix}$, $Y = \\begin{bmatrix}2&1&-1\\\\0&-1&2\\\\3&2&0\\end{bmatrix}$\n",
        "\n",
        "$X$ macierz 2x3  \n",
        "$Y$ macierz 3x3\n",
        "$$Z = X \\cdot Y =  \\begin{bmatrix}2&-1&3\\\\3&1&0\\end{bmatrix} \\cdot \\begin{bmatrix}2&1&-1\\\\0&-1&2\\\\3&2&0\\end{bmatrix} = \\begin{bmatrix}13&9&-4\\\\6&2&-1\\end{bmatrix}$$\n",
        "$Z$ macierz 2x3"
      ]
    },
    {
      "cell_type": "code",
      "metadata": {
        "id": "c59INnkTVuGa",
        "outputId": "8d1221c6-0664-4860-92cb-f395b3bee69e",
        "colab": {
          "base_uri": "https://localhost:8080/"
        }
      },
      "source": [
        "X = np.array([[2, -1, 3],\n",
        "              [3, 1, 0]])\n",
        "Y = np.array([[2, 1, -1],\n",
        "              [0, -1, 2],\n",
        "              [3, 2, 0]])\n",
        "\n",
        "print(X, '\\n')\n",
        "print(Y)"
      ],
      "execution_count": 21,
      "outputs": [
        {
          "output_type": "stream",
          "name": "stdout",
          "text": [
            "[[ 2 -1  3]\n",
            " [ 3  1  0]] \n",
            "\n",
            "[[ 2  1 -1]\n",
            " [ 0 -1  2]\n",
            " [ 3  2  0]]\n"
          ]
        }
      ]
    },
    {
      "cell_type": "code",
      "metadata": {
        "id": "fgr7ExzGXNEi",
        "outputId": "d1c4955f-a636-4d86-a863-bb29fe618bf3",
        "colab": {
          "base_uri": "https://localhost:8080/"
        }
      },
      "source": [
        "D = np.dot(X, Y)\n",
        "D"
      ],
      "execution_count": 23,
      "outputs": [
        {
          "output_type": "execute_result",
          "data": {
            "text/plain": [
              "array([[13,  9, -4],\n",
              "       [ 6,  2, -1]])"
            ]
          },
          "metadata": {},
          "execution_count": 23
        }
      ]
    },
    {
      "cell_type": "markdown",
      "metadata": {
        "id": "uaXVIO7owpsr"
      },
      "source": [
        "### <a name='a6'></a> Wyznacznik macierzy\n",
        "\n",
        "$${\\displaystyle A={\\begin{bmatrix}a_{11}&a_{12}&\\dots &a_{1n}\\\\a_{21}&a_{22}&\\dots &a_{2n}\\\\\\vdots &\\vdots &\\ddots &\\vdots \\\\a_{n1}&a_{n2}&\\dots &a_{nn}\\end{bmatrix}}}$$\n",
        "$A$ - macierz wymiaru nxn\n",
        "\n",
        "#### Oznaczenia:\n",
        "\n",
        "${\\displaystyle |A|=\\left|{\\begin{array}{c}a_{11}&a_{12}&\\dots &a_{1n}\\\\a_{21}&a_{22}&\\dots &a_{2n}\\\\\\vdots &\\vdots &\\ddots &\\vdots \\\\a_{n1}&a_{n2}&\\dots &a_{nn}\\end{array}}\\right|} $  lub  $ {\\displaystyle \\det A=\\det {\\begin{bmatrix}a_{11}&a_{12}&\\dots &a_{1n}\\\\a_{21}&a_{22}&\\dots &a_{2n}\\\\\\vdots &\\vdots &\\ddots &\\vdots \\\\a_{n1}&a_{n2}&\\dots &a_{nn}\\end{bmatrix}}}$\n",
        "\n",
        "#### Przykład:\n",
        "${\\displaystyle \\det A={\\begin{vmatrix}a_{11}&a_{12}\\\\a_{21}&a_{22}\\end{vmatrix}}=a_{11}a_{22}-a_{12}a_{21}}$\n",
        "\n",
        "${\\displaystyle \\det A={\\begin{vmatrix}a_{11}&a_{12}&a_{13}\\\\a_{21}&a_{22}&a_{23}\\\\a_{31}&a_{32}&a_{33}\\end{vmatrix}}=a_{11}a_{22}a_{33}+a_{21}a_{32}a_{13}+a_{31}a_{12}a_{23}-a_{21}a_{12}a_{33}-a_{11}a_{32}a_{23}-a_{31}a_{22}a_{13}}$\n",
        "\n",
        "${\\displaystyle \\det A={\\begin{vmatrix}2&4\\\\-1&3\\end{vmatrix}}=2\\cdot3-4\\cdot(-1)} = 6 + 4 = 10 $\n"
      ]
    },
    {
      "cell_type": "code",
      "metadata": {
        "id": "sQ3xsKtwZw_G",
        "outputId": "ff5d1b0d-3eff-4a74-ce58-8396c723d207",
        "colab": {
          "base_uri": "https://localhost:8080/"
        }
      },
      "source": [
        "A = np.array([[2, 4], [-1, 3]])\n",
        "round(np.linalg.det(A))"
      ],
      "execution_count": 25,
      "outputs": [
        {
          "output_type": "execute_result",
          "data": {
            "text/plain": [
              "10"
            ]
          },
          "metadata": {},
          "execution_count": 25
        }
      ]
    },
    {
      "cell_type": "markdown",
      "metadata": {
        "id": "ZuvQFOKs8YPP"
      },
      "source": [
        "### <a name='a7'></a> Ślad macierzy\n",
        "\n",
        "$${\\displaystyle A={\\begin{bmatrix}a_{11}&a_{12}&\\dots &a_{1n}\\\\a_{21}&a_{22}&\\dots &a_{2n}\\\\\\vdots &\\vdots &\\ddots &\\vdots \\\\a_{n1}&a_{n2}&\\dots &a_{nn}\\end{bmatrix}}}$$\n",
        "$A$ - macierz wymiaru nxn\n",
        "\n",
        "${\\displaystyle \\operatorname {tr} (A)=\\sum _{i=1}^{n}a_{ii}=a_{11}+a_{22}+\\dots +a_{nn}}$\n",
        "\n",
        "#### Przykład:\n",
        "$A = \\begin{bmatrix}2&4\\\\-1&3\\end{bmatrix}$\n",
        "\n",
        "${\\displaystyle \\operatorname {tr} (A)=\\sum _{i=1}^{2}a_{ii}=a_{11}+a_{22} = 2 + 3 = 5}$"
      ]
    },
    {
      "cell_type": "code",
      "metadata": {
        "id": "42WM7N9EaFae",
        "outputId": "ec90ee7c-e920-4278-de3b-803fceec0b04",
        "colab": {
          "base_uri": "https://localhost:8080/"
        }
      },
      "source": [
        "A = np.array([[2, 4], [-1, 3]])\n",
        "np.trace(A)"
      ],
      "execution_count": 26,
      "outputs": [
        {
          "output_type": "execute_result",
          "data": {
            "text/plain": [
              "np.int64(5)"
            ]
          },
          "metadata": {},
          "execution_count": 26
        }
      ]
    },
    {
      "cell_type": "markdown",
      "metadata": {
        "id": "n6smJ_d59rqb"
      },
      "source": [
        "###  <a name='a8'></a>  Macierz jednostkowa\n",
        "\n",
        "Macierz jednostkowa - macierz kwadratowa, której współczynniki podane są wzorem:\n",
        "$${\\displaystyle a_{ij}={\\begin{cases}1\\quad {\\text{dla}}\\quad i=j\\\\[2pt]0\\quad {\\text{dla}}\\quad i\\neq j\\end{cases}}}$$\n",
        "\n",
        "#### Przykłady\n",
        "${\\displaystyle I_{1}={\\begin{bmatrix}1\\end{bmatrix}},\\;I_{2}={\\begin{bmatrix}1&0\\\\0&1\\end{bmatrix}},\\;I_{3}={\\begin{bmatrix}1&0&0\\\\0&1&0\\\\0&0&1\\end{bmatrix}}}$"
      ]
    },
    {
      "cell_type": "code",
      "metadata": {
        "id": "n_Gme62NaRA4",
        "outputId": "39ac2ffd-bfbe-4980-b6e9-85a364139104",
        "colab": {
          "base_uri": "https://localhost:8080/"
        }
      },
      "source": [
        "np.eye(5, dtype='int')"
      ],
      "execution_count": 27,
      "outputs": [
        {
          "output_type": "execute_result",
          "data": {
            "text/plain": [
              "array([[1, 0, 0, 0, 0],\n",
              "       [0, 1, 0, 0, 0],\n",
              "       [0, 0, 1, 0, 0],\n",
              "       [0, 0, 0, 1, 0],\n",
              "       [0, 0, 0, 0, 1]])"
            ]
          },
          "metadata": {},
          "execution_count": 27
        }
      ]
    },
    {
      "cell_type": "code",
      "metadata": {
        "id": "EdDaRgFFaV8a",
        "outputId": "c197616e-6045-46fd-e05b-f66585a2b233",
        "colab": {
          "base_uri": "https://localhost:8080/"
        }
      },
      "source": [
        "np.eye(3)"
      ],
      "execution_count": 28,
      "outputs": [
        {
          "output_type": "execute_result",
          "data": {
            "text/plain": [
              "array([[1., 0., 0.],\n",
              "       [0., 1., 0.],\n",
              "       [0., 0., 1.]])"
            ]
          },
          "metadata": {},
          "execution_count": 28
        }
      ]
    },
    {
      "cell_type": "markdown",
      "metadata": {
        "id": "P5Lda48C9SDD"
      },
      "source": [
        "### <a name='a9'></a>  Macierz odwrotna\n",
        "\n",
        "$A$ - macierz kwadratowa stopnia $n$. Macierz $A$ posiada macierz odwrotną, gdy istnieje macierz $B$, taka, że\n",
        "$$AB = BA = I$$\n",
        "\n",
        "$A = \\begin{bmatrix}2&4\\\\-1&3\\end{bmatrix}$"
      ]
    },
    {
      "cell_type": "code",
      "metadata": {
        "id": "msD8C3UdakaA",
        "outputId": "ff6a35fb-0531-40cb-ea32-c8b006c330d8",
        "colab": {
          "base_uri": "https://localhost:8080/"
        }
      },
      "source": [
        "B = np.linalg.inv(A)\n",
        "B"
      ],
      "execution_count": 29,
      "outputs": [
        {
          "output_type": "execute_result",
          "data": {
            "text/plain": [
              "array([[ 0.3, -0.4],\n",
              "       [ 0.1,  0.2]])"
            ]
          },
          "metadata": {},
          "execution_count": 29
        }
      ]
    },
    {
      "cell_type": "code",
      "metadata": {
        "id": "i01GoSSNauew",
        "outputId": "64e4fd7d-0171-4198-a6cf-df922a0dbe02",
        "colab": {
          "base_uri": "https://localhost:8080/"
        }
      },
      "source": [
        "np.set_printoptions(precision=4, suppress=True)\n",
        "\n",
        "np.dot(A, B)"
      ],
      "execution_count": 30,
      "outputs": [
        {
          "output_type": "execute_result",
          "data": {
            "text/plain": [
              "array([[1., 0.],\n",
              "       [0., 1.]])"
            ]
          },
          "metadata": {},
          "execution_count": 30
        }
      ]
    },
    {
      "cell_type": "code",
      "metadata": {
        "id": "PiS3kfOva4rK",
        "outputId": "067a7eae-388a-4faf-d8e0-e2b5e4781fef",
        "colab": {
          "base_uri": "https://localhost:8080/",
          "height": 52
        }
      },
      "source": [
        "np.dot(B, A)"
      ],
      "execution_count": null,
      "outputs": [
        {
          "output_type": "execute_result",
          "data": {
            "text/plain": [
              "array([[ 1., -0.],\n",
              "       [ 0.,  1.]])"
            ]
          },
          "metadata": {
            "tags": []
          },
          "execution_count": 30
        }
      ]
    },
    {
      "cell_type": "markdown",
      "metadata": {
        "id": "CQ21zqwi_lBi"
      },
      "source": [
        "### <a name='a10'></a> Macierz transponowana\n",
        "\n",
        "Zamiana wierszy na kolumny i kolumny na wiersze.\n",
        "\n",
        "#### Przykład 1:\n",
        "\n",
        "$A = \\begin{bmatrix}2&4\\\\-1&3\\end{bmatrix}$,\n",
        "$A^{T} = \\begin{bmatrix}2&-1\\\\4&3\\end{bmatrix}$\n",
        "\n",
        "#### Przykład 2:\n",
        "$A = \\begin{bmatrix}2&1&-1\\\\0&-1&2\\end{bmatrix}$,\n",
        "$A^{T} = \\begin{bmatrix}2&0\\\\1&-1\\\\-1&2\\end{bmatrix}$"
      ]
    },
    {
      "cell_type": "code",
      "metadata": {
        "id": "nIx5wfLTbHvf",
        "outputId": "a5be524b-48e5-4229-9bd9-808aac4fa5c8",
        "colab": {
          "base_uri": "https://localhost:8080/"
        }
      },
      "source": [
        "np.transpose(A)"
      ],
      "execution_count": 31,
      "outputs": [
        {
          "output_type": "execute_result",
          "data": {
            "text/plain": [
              "array([[ 2, -1],\n",
              "       [ 4,  3]])"
            ]
          },
          "metadata": {},
          "execution_count": 31
        }
      ]
    },
    {
      "cell_type": "code",
      "metadata": {
        "id": "jRdy6-TUbMYV",
        "outputId": "7b171b30-67ed-4422-bbbf-554a839a3384",
        "colab": {
          "base_uri": "https://localhost:8080/"
        }
      },
      "source": [
        "A.T"
      ],
      "execution_count": 32,
      "outputs": [
        {
          "output_type": "execute_result",
          "data": {
            "text/plain": [
              "array([[ 2, -1],\n",
              "       [ 4,  3]])"
            ]
          },
          "metadata": {},
          "execution_count": 32
        }
      ]
    },
    {
      "cell_type": "markdown",
      "metadata": {
        "id": "OzwC3dmHB1MH"
      },
      "source": [
        "### <a name='a11'></a> Rozwiązywanie układów równań\n",
        "Rozważmy układ równań $U$:  \n",
        "$${\\displaystyle \\mathrm {U} \\colon {\\begin{cases}{\\begin{matrix}a_{11}x_{1}&+&a_{12}x_{2}&+&\\dots &+&a_{1n}x_{n}&=b_{1},\\\\a_{21}x_{1}&+&a_{22}x_{2}&+&\\dots &+&a_{2n}x_{n}&=b_{2},\\\\\\vdots &&\\vdots &&\\ddots &&\\vdots &\\vdots \\\\a_{m1}x_{1}&+&a_{m2}x_{2}&+&\\dots &+&a_{mn}x_{n}&=b_{m}.\\end{matrix}}\\end{cases}}.}$$\n",
        "\n",
        "Wykorzystując macierze możemy to przedstawić następująco:\n",
        "\n",
        "$${\\begin{bmatrix}a_{11}&a_{12}&\\dots &a_{1n}\\\\a_{21}&a_{22}&\\dots &a_{2n}\\\\\\vdots &\\vdots &\\ddots &\\vdots \\\\a_{m1}&a_{m2}&\\dots &a_{mn}\\end{bmatrix}}{\\begin{bmatrix}x_{1}\\\\x_{2}\\\\\\vdots \\\\x_{n}\\end{bmatrix}}={\\begin{bmatrix}b_{1}\\\\b_{2}\\\\\\vdots \\\\b_{m}\\end{bmatrix}}$$\n",
        "I w zapisie skrótowym:\n",
        "$$\\mathbf {AX} =\\mathbf {B}$$\n",
        "\n",
        "Gdzie:  \n",
        "$A = {\\begin{bmatrix}a_{11}&a_{12}&\\dots &a_{1n}\\\\a_{21}&a_{22}&\\dots &a_{2n}\\\\\\vdots &\\vdots &\\ddots &\\vdots \\\\a_{m1}&a_{m2}&\\dots &a_{mn}\\end{bmatrix}}$ - macierz współczynników\n",
        "\n",
        "${\\displaystyle \\mathbf {B} =[b_{1},b_{2},\\dots ,b_{m}]} $ - wektor wyrazów wolnych  \n",
        "${\\mathbf  X}=[x_{1},x_{2},\\dots ,x_{n}] $ - wektor niewiadomych\n",
        "\n",
        "Jeśli macierz układu $A$ jest macierzą kwadratową, to oznaczoność układu jest równoważna jej odwracalności, tzn.\n",
        "$$\\mathbf {AX} =\\mathbf {B}$$\n",
        "$${\\displaystyle \\mathbf {A} ^{-1}\\mathbf {AX} =\\mathbf {A} ^{-1}\\mathbf {B}} $$\n",
        "$$\\mathbf {X} =\\mathbf {A} ^{-1}\\mathbf {B} .$$\n",
        "\n",
        "#### Przykład:\n",
        "Rozważmy układ równań:\n",
        "$$\\begin{cases}2x + 4y = 10 \\\\ x - y = -1 \\end{cases}$$  \n",
        "Rozwiązaniem jest para liczb:\n",
        "$$\\begin{cases}x = 1 \\\\ y = 2 \\end{cases}$$  \n",
        "\n",
        "\n",
        "\n",
        "\n"
      ]
    },
    {
      "cell_type": "code",
      "metadata": {
        "id": "mFmC73z5eZNy",
        "outputId": "2815b46f-5e17-4ec6-ab98-5ea9dc221edb",
        "colab": {
          "base_uri": "https://localhost:8080/"
        }
      },
      "source": [
        "# macierz wspoczynnikow\n",
        "A = np.array([[2,4], [1, -1]])\n",
        "A"
      ],
      "execution_count": 42,
      "outputs": [
        {
          "output_type": "execute_result",
          "data": {
            "text/plain": [
              "array([[ 2,  4],\n",
              "       [ 1, -1]])"
            ]
          },
          "metadata": {},
          "execution_count": 42
        }
      ]
    },
    {
      "cell_type": "code",
      "metadata": {
        "id": "M8nFzAlaeoX5"
      },
      "source": [
        "# wektor wyrazow wolnych\n",
        "B = np.array([[10], [-1]])"
      ],
      "execution_count": 41,
      "outputs": []
    },
    {
      "cell_type": "code",
      "metadata": {
        "id": "uNgjiYokeuVm",
        "outputId": "c39fa836-159d-40d5-976e-093eee656c7c",
        "colab": {
          "base_uri": "https://localhost:8080/"
        }
      },
      "source": [
        "# obliczanie macierzy odwrotnej\n",
        "a_inv = np.linalg.inv(A)\n",
        "X = np.dot(a_inv, B)\n",
        "X"
      ],
      "execution_count": 43,
      "outputs": [
        {
          "output_type": "execute_result",
          "data": {
            "text/plain": [
              "array([[1.],\n",
              "       [2.]])"
            ]
          },
          "metadata": {},
          "execution_count": 43
        }
      ]
    },
    {
      "cell_type": "code",
      "metadata": {
        "id": "sv1pxfqBe4HG",
        "outputId": "f0eef391-5288-4e87-b8c8-11a2b62020ea",
        "colab": {
          "base_uri": "https://localhost:8080/"
        }
      },
      "source": [
        "X.shape"
      ],
      "execution_count": 44,
      "outputs": [
        {
          "output_type": "execute_result",
          "data": {
            "text/plain": [
              "(2, 1)"
            ]
          },
          "metadata": {},
          "execution_count": 44
        }
      ]
    }
  ]
}